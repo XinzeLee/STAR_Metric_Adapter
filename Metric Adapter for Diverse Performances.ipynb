{
 "cells": [
  {
   "cell_type": "markdown",
   "id": "2a8c9618",
   "metadata": {},
   "source": [
    "### 1. Load exemplary waveforms"
   ]
  },
  {
   "cell_type": "code",
   "execution_count": 1,
   "id": "24002365",
   "metadata": {},
   "outputs": [
    {
     "name": "stdout",
     "output_type": "stream",
     "text": [
      "The file to check is: 140V.csv\n"
     ]
    }
   ],
   "source": [
    "import os\n",
    "import numpy as np\n",
    "import matplotlib\n",
    "import matplotlib.pyplot as plt\n",
    "%matplotlib inline\n",
    "\n",
    "waveform_path = \"./Waveforms\"\n",
    "files = os.listdir(waveform_path)\n",
    "\n",
    "selected_idx = 0\n",
    "print(f\"The file to check is: {files[selected_idx]}\")\n",
    "all_results = np.loadtxt(f\"{waveform_path}/{files[selected_idx]}\",\n",
    "                        skiprows=1, delimiter=\",\") # load all data\n",
    "\n",
    "iL_PA_RNN, vp_ES, vs_ES = [all_results[:, i] \n",
    "                           for i in range(all_results.shape[1])] # assign each column into a var"
   ]
  },
  {
   "cell_type": "code",
   "execution_count": 2,
   "id": "c0a60db0",
   "metadata": {},
   "outputs": [
    {
     "data": {
      "image/png": "[encoded data removed]",
      "text/plain": [
       "<Figure size 576x1080 with 2 Axes>"
      ]
     },
     "metadata": {
      "needs_background": "light"
     },
     "output_type": "display_data"
    }
   ],
   "source": [
    "# Visualize the waveforms in three diverse scenarios\n",
    "fig, axs = plt.subplots(2, 1, figsize=(8, 15))\n",
    "\n",
    "for i, (waves, title) in enumerate(zip([(vp_ES, vs_ES), (iL_PA_RNN,)],\n",
    "                                       [\"vp and vs waveforms\", \"iL waveforms\"])):\n",
    "    for wave in waves:\n",
    "        axs[i].plot(wave)\n",
    "    axs[i].set_title(title)\n",
    "plt.show()"
   ]
  },
  {
   "cell_type": "code",
   "execution_count": null,
   "id": "2dd5eb58",
   "metadata": {},
   "outputs": [],
   "source": []
  },
  {
   "cell_type": "markdown",
   "id": "c11ebd3d",
   "metadata": {},
   "source": [
    "### 2. Performance Metric 1 - Current Stress\n",
    "* Peak-to-peak current stress: ipp\n",
    "* Root-mean-square current stress: irms"
   ]
  },
  {
   "cell_type": "code",
   "execution_count": 3,
   "id": "3dacf374",
   "metadata": {},
   "outputs": [],
   "source": [
    "def current_stress(iL, metric=\"ipp\", delta_T=200e-9):\n",
    "    assert metric in [\"ipp\", \"irms\"]\n",
    "    if metric == \"ipp\":\n",
    "        return max(iL)-min(iL)\n",
    "    elif metric == \"irms\":\n",
    "        return np.sqrt((iL**2).mean())"
   ]
  },
  {
   "cell_type": "code",
   "execution_count": 4,
   "id": "50020cb0",
   "metadata": {},
   "outputs": [
    {
     "name": "stdout",
     "output_type": "stream",
     "text": [
      "ipp of PA-RNN is 4.20 A.\n",
      "\n",
      "\n",
      "irms of PA-RNN is 1.08 A.\n"
     ]
    }
   ],
   "source": [
    "# get peak-to-peak current stress\n",
    "ipp_PA_RNN = current_stress(iL_PA_RNN, metric=\"ipp\")\n",
    "print(f\"ipp of PA-RNN is {ipp_PA_RNN:.2f} A.\")\n",
    "\n",
    "print(\"\\n\")\n",
    "\n",
    "# get root-mean-square current stress\n",
    "irms_PA_RNN = current_stress(iL_PA_RNN, metric=\"irms\")\n",
    "print(f\"irms of PA-RNN is {irms_PA_RNN:.2f} A.\")"
   ]
  },
  {
   "cell_type": "code",
   "execution_count": null,
   "id": "4a0c438e",
   "metadata": {},
   "outputs": [],
   "source": []
  },
  {
   "cell_type": "markdown",
   "id": "808f76b5",
   "metadata": {},
   "source": [
    "### 3. Performance Metric 2 - Soft Switching Performance\n",
    "* Zero voltage switching: ZVS\n",
    "* Zero current switching: ZCS"
   ]
  },
  {
   "cell_type": "code",
   "execution_count": 5,
   "id": "496f6526",
   "metadata": {},
   "outputs": [],
   "source": [
    "def locate(v, V):\n",
    "    \"\"\"\n",
    "        Locate ip1, ip2, ip3, ip4\n",
    "        and is1, is2, is3, is4\n",
    "    \"\"\"\n",
    "    idx = [None]*4\n",
    "    v0 = v[0]\n",
    "    for i in range(1, len(v)+1):\n",
    "        i = i % len(v)\n",
    "        dV = v[i]-v0\n",
    "        if (dV > V/2):\n",
    "            if v0 < -V/2: idx[0] = i\n",
    "            else: idx[1] = i\n",
    "            if (dV > V*1.5):\n",
    "                idx[1] = i\n",
    "        elif (dV < -V/2):\n",
    "            if v0 > V/2: idx[2] = i\n",
    "            else: idx[3] = i\n",
    "            if (dV < -V*1.5):\n",
    "                idx[3] = i\n",
    "        v0 = v[i]\n",
    "    return idx\n",
    "\n",
    "Vo_map = {0: 140, 1: 160}\n",
    "def segment(vp, iL):\n",
    "    V = Vo_map[selected_idx]\n",
    "    # segment the NPC bridge to obtain each drain/collection current\n",
    "    s_pri = np.array(vp>V/2).astype(np.float32)\n",
    "    s_pri2 = np.array(vp>-V/2).astype(np.float32)\n",
    "    iL = np.array(iL).astype(np.float32)\n",
    "    iS1 = s_pri*iL\n",
    "    iS4 = -(1-s_pri2)*iL\n",
    "    iS2 = np.clip(s_pri+np.clip(s_pri2-s_pri, 0., 1.)*(iL>=0.), 0., 1.)*iL\n",
    "    iS3 = -np.clip((1-s_pri2)+np.clip(s_pri2-s_pri, 0., 1.)*(iL<=0.), 0., 1.)*iL\n",
    "    return iS1, iS2, iS3, iS4"
   ]
  },
  {
   "cell_type": "code",
   "execution_count": 6,
   "id": "9dbd172c",
   "metadata": {},
   "outputs": [],
   "source": [
    "def soft_switching(iL, vp, vs):\n",
    "    iS1, iS2, iS3, iS4 = segment(vp, iL)\n",
    "    indices = locate(vp, Vin)\n",
    "    indices2 = locate(vs, Vo_map[selected_idx])\n",
    "    ZVS = np.zeros(12, )\n",
    "    ZCS = np.zeros(12, )\n",
    "    \n",
    "    \n",
    "    ##### ZVS\n",
    "    ZVS[0] = (iS1[indices[1]]<=1e-1).astype(int) # ZVS: S1\n",
    "    ZVS[7] = (iS1[indices[1]]<=1e-1).astype(int) # ZVS: S8\n",
    "    ZVS[1] = (iS2[indices[0]]<=1e-1).astype(int) # ZVS: S2\n",
    "    ZVS[6] = (iS2[indices[0]]<=1e-1).astype(int) # ZVS: S7\n",
    "    ZVS[2] = (iS3[indices[2]]<=1e-1).astype(int) # ZVS: S3\n",
    "    ZVS[5] = (iS3[indices[2]]<=1e-1).astype(int) # ZVS: S6\n",
    "    ZVS[3] = (iS4[indices[3]]<=1e-1).astype(int) # ZVS: S4\n",
    "    ZVS[4] = (iS4[indices[3]]<=1e-1).astype(int) # ZVS: S5\n",
    "    ZVS[8] = (iL[indices2[0]]>=-1e-1).astype(int) # ZVS: Q1\n",
    "    ZVS[9] = (iL[indices2[2]]<=1e-1).astype(int) # ZVS: Q2\n",
    "    ZVS[10] = (iL[indices2[3]]<=1e-1).astype(int) # ZVS: Q3\n",
    "    ZVS[11] = (iL[indices2[1]]>=-1e-1).astype(int) # ZVS: Q4\n",
    "\n",
    "    #### ZCS\n",
    "    ZCS[0] = (np.abs(iS1[indices[2]])<=threshold).astype(int) # ZCS: S1\n",
    "    ZCS[7] = (np.abs(iS1[indices[2]])<=threshold).astype(int) # ZCS: S8\n",
    "    ZCS[1] = (np.abs(iS2[indices[3]])<=threshold).astype(int) # ZCS: S2\n",
    "    ZCS[6] = (np.abs(iS2[indices[3]])<=threshold).astype(int) # ZCS: S7\n",
    "    ZCS[2] = (np.abs(iS3[indices[1]])<=threshold).astype(int) # ZCS: S3\n",
    "    ZCS[5] = (np.abs(iS3[indices[1]])<=threshold).astype(int) # ZCS: S6\n",
    "    ZCS[3] = (np.abs(iS4[indices[0]])<=threshold).astype(int) # ZCS: S4\n",
    "    ZCS[4] = (np.abs(iS4[indices[0]])<=threshold).astype(int) # ZCS: S5\n",
    "    ZCS[8] = (np.abs(iL[indices2[2]])<=threshold).astype(int) # ZCS: Q1\n",
    "    ZCS[9] = (np.abs(iL[indices2[0]])<=threshold).astype(int) # ZCS: Q2\n",
    "    ZCS[10] = (np.abs(iL[indices2[1]])<=threshold).astype(int) # ZCS: Q3\n",
    "    ZCS[11] = (np.abs(iL[indices2[3]])<=threshold).astype(int) # ZCS: Q4\n",
    "    return ZVS, ZCS, indices, indices2"
   ]
  },
  {
   "cell_type": "code",
   "execution_count": 7,
   "id": "5440e808",
   "metadata": {},
   "outputs": [
    {
     "name": "stdout",
     "output_type": "stream",
     "text": [
      "ZVS and ZCS performance of experimental data:\n",
      "(array([1., 1., 1., 1., 1., 1., 1., 1., 1., 1., 1., 1.]), array([1., 1., 1., 1., 1., 1., 1., 1., 1., 1., 0., 0.]))\n"
     ]
    },
    {
     "data": {
      "image/png": "[encoded data removed]",
      "text/plain": [
       "<Figure size 432x288 with 1 Axes>"
      ]
     },
     "metadata": {
      "needs_background": "light"
     },
     "output_type": "display_data"
    }
   ],
   "source": [
    "Vin = 300\n",
    "threshold = 2e-2\n",
    "\n",
    "\n",
    "ZVZCS_pred = soft_switching(iL_PA_RNN, vp_ES, vs_ES)\n",
    "print(\"ZVS and ZCS performance of experimental data:\")\n",
    "print(ZVZCS_pred[:2])\n",
    "\n",
    "indices, indices2 = ZVZCS_pred[2:]\n",
    "indices[2] -= 1\n",
    "indices[2] -= 1\n",
    "plt.figure()\n",
    "plt.plot(vp_ES/300)\n",
    "plt.plot(vs_ES/300)\n",
    "plt.scatter(indices, vp_ES[indices]/300, c=\"b\")\n",
    "plt.scatter(indices, iL_PA_RNN[indices]/iL_PA_RNN.max(), c=\"b\")\n",
    "plt.scatter(indices2, vs_ES[indices2]/300, c=\"r\")\n",
    "plt.scatter(indices2, iL_PA_RNN[indices2]/iL_PA_RNN.max(), c=\"r\")\n",
    "plt.plot(iL_PA_RNN/iL_PA_RNN.max())\n",
    "plt.show()"
   ]
  },
  {
   "cell_type": "code",
   "execution_count": null,
   "id": "4fdf5a4c",
   "metadata": {},
   "outputs": [],
   "source": []
  },
  {
   "cell_type": "code",
   "execution_count": null,
   "id": "b4657669",
   "metadata": {},
   "outputs": [],
   "source": []
  },
  {
   "cell_type": "markdown",
   "id": "a9dfb2e3",
   "metadata": {},
   "source": [
    "### 4. Performance Metric 3 - Power\n",
    "* Transferred power: PL\n",
    "* Reactive power: Q"
   ]
  },
  {
   "cell_type": "code",
   "execution_count": 8,
   "id": "c7a034ad",
   "metadata": {},
   "outputs": [],
   "source": [
    "def power(vp, vs, iL, metric=\"PL\", delta_T=200e-9):\n",
    "    assert metric in [\"PL\", \"Q\"]\n",
    "    if metric == \"PL\":\n",
    "        return (vp*iL).mean()\n",
    "    elif metric == \"Q\":\n",
    "        vL = vp-n*vs\n",
    "        return np.sqrt((vL**2).mean())*np.sqrt((iL**2).mean())"
   ]
  },
  {
   "cell_type": "code",
   "execution_count": 9,
   "id": "c0d7f152",
   "metadata": {},
   "outputs": [
    {
     "name": "stdout",
     "output_type": "stream",
     "text": [
      "PL of PA-RNN is 236.21 W.\n",
      "\n",
      "\n",
      "Q of PA-RNN is 68.83 W.\n"
     ]
    }
   ],
   "source": [
    "# get power transferred\n",
    "PL_PA_RNN = power(vp_ES, vs_ES, iL_PA_RNN, metric=\"PL\")\n",
    "print(f\"PL of PA-RNN is {PL_PA_RNN:.2f} W.\")\n",
    "\n",
    "print(\"\\n\")\n",
    "\n",
    "# get reactive power\n",
    "n = 2\n",
    "Q_PA_RNN = power(vp_ES, vs_ES, iL_PA_RNN, metric=\"Q\")\n",
    "print(f\"Q of PA-RNN is {Q_PA_RNN:.2f} W.\")"
   ]
  },
  {
   "cell_type": "code",
   "execution_count": null,
   "id": "008fedbf",
   "metadata": {},
   "outputs": [],
   "source": []
  },
  {
   "cell_type": "code",
   "execution_count": null,
   "id": "389f6de7",
   "metadata": {},
   "outputs": [],
   "source": []
  }
 ],
 "metadata": {
  "kernelspec": {
   "display_name": "Python 3 (ipykernel)",
   "language": "python",
   "name": "python3"
  },
  "language_info": {
   "codemirror_mode": {
    "name": "ipython",
    "version": 3
   },
   "file_extension": ".py",
   "mimetype": "text/x-python",
   "name": "python",
   "nbconvert_exporter": "python",
   "pygments_lexer": "ipython3",
   "version": "3.9.5"
  }
 },
 "nbformat": 4,
 "nbformat_minor": 5
}
